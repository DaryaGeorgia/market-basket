{
  "cells": [
    {
      "cell_type": "code",
      "execution_count": 4,
      "id": "9d58d9f3",
      "metadata": {
        "id": "9d58d9f3"
      },
      "outputs": [],
      "source": [
        "import pandas as pd\n",
        "import re\n",
        "import numpy as np\n",
        "from collections import Counter"
      ]
    },
    {
      "cell_type": "code",
      "execution_count": 5,
      "id": "d543d64f",
      "metadata": {
        "scrolled": false,
        "colab": {
          "base_uri": "https://localhost:8080/"
        },
        "id": "d543d64f",
        "outputId": "d591ffe2-9df4-4adc-da07-6e3acb869b3f"
      },
      "outputs": [
        {
          "output_type": "stream",
          "name": "stdout",
          "text": [
            "Requirement already satisfied: pyspark in /usr/local/lib/python3.10/dist-packages (3.5.3)\n",
            "Requirement already satisfied: py4j==0.10.9.7 in /usr/local/lib/python3.10/dist-packages (from pyspark) (0.10.9.7)\n"
          ]
        }
      ],
      "source": [
        "pip install pyspark"
      ]
    },
    {
      "cell_type": "code",
      "source": [
        "from google.colab import files\n",
        "files.upload()"
      ],
      "metadata": {
        "colab": {
          "base_uri": "https://localhost:8080/",
          "height": 333
        },
        "id": "zb7bKMt7XU9l",
        "outputId": "fd212e4c-22b2-43f5-a4a4-5af2a4715d0b"
      },
      "id": "zb7bKMt7XU9l",
      "execution_count": 3,
      "outputs": [
        {
          "output_type": "display_data",
          "data": {
            "text/plain": [
              "<IPython.core.display.HTML object>"
            ],
            "text/html": [
              "\n",
              "     <input type=\"file\" id=\"files-5d9e98cc-f156-4f91-a671-73465436abf3\" name=\"files[]\" multiple disabled\n",
              "        style=\"border:none\" />\n",
              "     <output id=\"result-5d9e98cc-f156-4f91-a671-73465436abf3\">\n",
              "      Upload widget is only available when the cell has been executed in the\n",
              "      current browser session. Please rerun this cell to enable.\n",
              "      </output>\n",
              "      <script>// Copyright 2017 Google LLC\n",
              "//\n",
              "// Licensed under the Apache License, Version 2.0 (the \"License\");\n",
              "// you may not use this file except in compliance with the License.\n",
              "// You may obtain a copy of the License at\n",
              "//\n",
              "//      http://www.apache.org/licenses/LICENSE-2.0\n",
              "//\n",
              "// Unless required by applicable law or agreed to in writing, software\n",
              "// distributed under the License is distributed on an \"AS IS\" BASIS,\n",
              "// WITHOUT WARRANTIES OR CONDITIONS OF ANY KIND, either express or implied.\n",
              "// See the License for the specific language governing permissions and\n",
              "// limitations under the License.\n",
              "\n",
              "/**\n",
              " * @fileoverview Helpers for google.colab Python module.\n",
              " */\n",
              "(function(scope) {\n",
              "function span(text, styleAttributes = {}) {\n",
              "  const element = document.createElement('span');\n",
              "  element.textContent = text;\n",
              "  for (const key of Object.keys(styleAttributes)) {\n",
              "    element.style[key] = styleAttributes[key];\n",
              "  }\n",
              "  return element;\n",
              "}\n",
              "\n",
              "// Max number of bytes which will be uploaded at a time.\n",
              "const MAX_PAYLOAD_SIZE = 100 * 1024;\n",
              "\n",
              "function _uploadFiles(inputId, outputId) {\n",
              "  const steps = uploadFilesStep(inputId, outputId);\n",
              "  const outputElement = document.getElementById(outputId);\n",
              "  // Cache steps on the outputElement to make it available for the next call\n",
              "  // to uploadFilesContinue from Python.\n",
              "  outputElement.steps = steps;\n",
              "\n",
              "  return _uploadFilesContinue(outputId);\n",
              "}\n",
              "\n",
              "// This is roughly an async generator (not supported in the browser yet),\n",
              "// where there are multiple asynchronous steps and the Python side is going\n",
              "// to poll for completion of each step.\n",
              "// This uses a Promise to block the python side on completion of each step,\n",
              "// then passes the result of the previous step as the input to the next step.\n",
              "function _uploadFilesContinue(outputId) {\n",
              "  const outputElement = document.getElementById(outputId);\n",
              "  const steps = outputElement.steps;\n",
              "\n",
              "  const next = steps.next(outputElement.lastPromiseValue);\n",
              "  return Promise.resolve(next.value.promise).then((value) => {\n",
              "    // Cache the last promise value to make it available to the next\n",
              "    // step of the generator.\n",
              "    outputElement.lastPromiseValue = value;\n",
              "    return next.value.response;\n",
              "  });\n",
              "}\n",
              "\n",
              "/**\n",
              " * Generator function which is called between each async step of the upload\n",
              " * process.\n",
              " * @param {string} inputId Element ID of the input file picker element.\n",
              " * @param {string} outputId Element ID of the output display.\n",
              " * @return {!Iterable<!Object>} Iterable of next steps.\n",
              " */\n",
              "function* uploadFilesStep(inputId, outputId) {\n",
              "  const inputElement = document.getElementById(inputId);\n",
              "  inputElement.disabled = false;\n",
              "\n",
              "  const outputElement = document.getElementById(outputId);\n",
              "  outputElement.innerHTML = '';\n",
              "\n",
              "  const pickedPromise = new Promise((resolve) => {\n",
              "    inputElement.addEventListener('change', (e) => {\n",
              "      resolve(e.target.files);\n",
              "    });\n",
              "  });\n",
              "\n",
              "  const cancel = document.createElement('button');\n",
              "  inputElement.parentElement.appendChild(cancel);\n",
              "  cancel.textContent = 'Cancel upload';\n",
              "  const cancelPromise = new Promise((resolve) => {\n",
              "    cancel.onclick = () => {\n",
              "      resolve(null);\n",
              "    };\n",
              "  });\n",
              "\n",
              "  // Wait for the user to pick the files.\n",
              "  const files = yield {\n",
              "    promise: Promise.race([pickedPromise, cancelPromise]),\n",
              "    response: {\n",
              "      action: 'starting',\n",
              "    }\n",
              "  };\n",
              "\n",
              "  cancel.remove();\n",
              "\n",
              "  // Disable the input element since further picks are not allowed.\n",
              "  inputElement.disabled = true;\n",
              "\n",
              "  if (!files) {\n",
              "    return {\n",
              "      response: {\n",
              "        action: 'complete',\n",
              "      }\n",
              "    };\n",
              "  }\n",
              "\n",
              "  for (const file of files) {\n",
              "    const li = document.createElement('li');\n",
              "    li.append(span(file.name, {fontWeight: 'bold'}));\n",
              "    li.append(span(\n",
              "        `(${file.type || 'n/a'}) - ${file.size} bytes, ` +\n",
              "        `last modified: ${\n",
              "            file.lastModifiedDate ? file.lastModifiedDate.toLocaleDateString() :\n",
              "                                    'n/a'} - `));\n",
              "    const percent = span('0% done');\n",
              "    li.appendChild(percent);\n",
              "\n",
              "    outputElement.appendChild(li);\n",
              "\n",
              "    const fileDataPromise = new Promise((resolve) => {\n",
              "      const reader = new FileReader();\n",
              "      reader.onload = (e) => {\n",
              "        resolve(e.target.result);\n",
              "      };\n",
              "      reader.readAsArrayBuffer(file);\n",
              "    });\n",
              "    // Wait for the data to be ready.\n",
              "    let fileData = yield {\n",
              "      promise: fileDataPromise,\n",
              "      response: {\n",
              "        action: 'continue',\n",
              "      }\n",
              "    };\n",
              "\n",
              "    // Use a chunked sending to avoid message size limits. See b/62115660.\n",
              "    let position = 0;\n",
              "    do {\n",
              "      const length = Math.min(fileData.byteLength - position, MAX_PAYLOAD_SIZE);\n",
              "      const chunk = new Uint8Array(fileData, position, length);\n",
              "      position += length;\n",
              "\n",
              "      const base64 = btoa(String.fromCharCode.apply(null, chunk));\n",
              "      yield {\n",
              "        response: {\n",
              "          action: 'append',\n",
              "          file: file.name,\n",
              "          data: base64,\n",
              "        },\n",
              "      };\n",
              "\n",
              "      let percentDone = fileData.byteLength === 0 ?\n",
              "          100 :\n",
              "          Math.round((position / fileData.byteLength) * 100);\n",
              "      percent.textContent = `${percentDone}% done`;\n",
              "\n",
              "    } while (position < fileData.byteLength);\n",
              "  }\n",
              "\n",
              "  // All done.\n",
              "  yield {\n",
              "    response: {\n",
              "      action: 'complete',\n",
              "    }\n",
              "  };\n",
              "}\n",
              "\n",
              "scope.google = scope.google || {};\n",
              "scope.google.colab = scope.google.colab || {};\n",
              "scope.google.colab._files = {\n",
              "  _uploadFiles,\n",
              "  _uploadFilesContinue,\n",
              "};\n",
              "})(self);\n",
              "</script> "
            ]
          },
          "metadata": {}
        },
        {
          "output_type": "error",
          "ename": "KeyboardInterrupt",
          "evalue": "",
          "traceback": [
            "\u001b[0;31m---------------------------------------------------------------------------\u001b[0m",
            "\u001b[0;31mKeyboardInterrupt\u001b[0m                         Traceback (most recent call last)",
            "\u001b[0;32m<ipython-input-3-5c2e8a8d365b>\u001b[0m in \u001b[0;36m<cell line: 2>\u001b[0;34m()\u001b[0m\n\u001b[1;32m      1\u001b[0m \u001b[0;32mfrom\u001b[0m \u001b[0mgoogle\u001b[0m\u001b[0;34m.\u001b[0m\u001b[0mcolab\u001b[0m \u001b[0;32mimport\u001b[0m \u001b[0mfiles\u001b[0m\u001b[0;34m\u001b[0m\u001b[0;34m\u001b[0m\u001b[0m\n\u001b[0;32m----> 2\u001b[0;31m \u001b[0mfiles\u001b[0m\u001b[0;34m.\u001b[0m\u001b[0mupload\u001b[0m\u001b[0;34m(\u001b[0m\u001b[0;34m)\u001b[0m\u001b[0;34m\u001b[0m\u001b[0;34m\u001b[0m\u001b[0m\n\u001b[0m",
            "\u001b[0;32m/usr/local/lib/python3.10/dist-packages/google/colab/files.py\u001b[0m in \u001b[0;36mupload\u001b[0;34m(target_dir)\u001b[0m\n\u001b[1;32m     70\u001b[0m   \"\"\"\n\u001b[1;32m     71\u001b[0m \u001b[0;34m\u001b[0m\u001b[0m\n\u001b[0;32m---> 72\u001b[0;31m   \u001b[0muploaded_files\u001b[0m \u001b[0;34m=\u001b[0m \u001b[0m_upload_files\u001b[0m\u001b[0;34m(\u001b[0m\u001b[0mmultiple\u001b[0m\u001b[0;34m=\u001b[0m\u001b[0;32mTrue\u001b[0m\u001b[0;34m)\u001b[0m\u001b[0;34m\u001b[0m\u001b[0;34m\u001b[0m\u001b[0m\n\u001b[0m\u001b[1;32m     73\u001b[0m   \u001b[0;31m# Mapping from original filename to filename as saved locally.\u001b[0m\u001b[0;34m\u001b[0m\u001b[0;34m\u001b[0m\u001b[0m\n\u001b[1;32m     74\u001b[0m   \u001b[0mlocal_filenames\u001b[0m \u001b[0;34m=\u001b[0m \u001b[0mdict\u001b[0m\u001b[0;34m(\u001b[0m\u001b[0;34m)\u001b[0m\u001b[0;34m\u001b[0m\u001b[0;34m\u001b[0m\u001b[0m\n",
            "\u001b[0;32m/usr/local/lib/python3.10/dist-packages/google/colab/files.py\u001b[0m in \u001b[0;36m_upload_files\u001b[0;34m(multiple)\u001b[0m\n\u001b[1;32m    162\u001b[0m \u001b[0;34m\u001b[0m\u001b[0m\n\u001b[1;32m    163\u001b[0m   \u001b[0;31m# First result is always an indication that the file picker has completed.\u001b[0m\u001b[0;34m\u001b[0m\u001b[0;34m\u001b[0m\u001b[0m\n\u001b[0;32m--> 164\u001b[0;31m   result = _output.eval_js(\n\u001b[0m\u001b[1;32m    165\u001b[0m       'google.colab._files._uploadFiles(\"{input_id}\", \"{output_id}\")'.format(\n\u001b[1;32m    166\u001b[0m           \u001b[0minput_id\u001b[0m\u001b[0;34m=\u001b[0m\u001b[0minput_id\u001b[0m\u001b[0;34m,\u001b[0m \u001b[0moutput_id\u001b[0m\u001b[0;34m=\u001b[0m\u001b[0moutput_id\u001b[0m\u001b[0;34m\u001b[0m\u001b[0;34m\u001b[0m\u001b[0m\n",
            "\u001b[0;32m/usr/local/lib/python3.10/dist-packages/google/colab/output/_js.py\u001b[0m in \u001b[0;36meval_js\u001b[0;34m(script, ignore_result, timeout_sec)\u001b[0m\n\u001b[1;32m     38\u001b[0m   \u001b[0;32mif\u001b[0m \u001b[0mignore_result\u001b[0m\u001b[0;34m:\u001b[0m\u001b[0;34m\u001b[0m\u001b[0;34m\u001b[0m\u001b[0m\n\u001b[1;32m     39\u001b[0m     \u001b[0;32mreturn\u001b[0m\u001b[0;34m\u001b[0m\u001b[0;34m\u001b[0m\u001b[0m\n\u001b[0;32m---> 40\u001b[0;31m   \u001b[0;32mreturn\u001b[0m \u001b[0m_message\u001b[0m\u001b[0;34m.\u001b[0m\u001b[0mread_reply_from_input\u001b[0m\u001b[0;34m(\u001b[0m\u001b[0mrequest_id\u001b[0m\u001b[0;34m,\u001b[0m \u001b[0mtimeout_sec\u001b[0m\u001b[0;34m)\u001b[0m\u001b[0;34m\u001b[0m\u001b[0;34m\u001b[0m\u001b[0m\n\u001b[0m\u001b[1;32m     41\u001b[0m \u001b[0;34m\u001b[0m\u001b[0m\n\u001b[1;32m     42\u001b[0m \u001b[0;34m\u001b[0m\u001b[0m\n",
            "\u001b[0;32m/usr/local/lib/python3.10/dist-packages/google/colab/_message.py\u001b[0m in \u001b[0;36mread_reply_from_input\u001b[0;34m(message_id, timeout_sec)\u001b[0m\n\u001b[1;32m     94\u001b[0m     \u001b[0mreply\u001b[0m \u001b[0;34m=\u001b[0m \u001b[0m_read_next_input_message\u001b[0m\u001b[0;34m(\u001b[0m\u001b[0;34m)\u001b[0m\u001b[0;34m\u001b[0m\u001b[0;34m\u001b[0m\u001b[0m\n\u001b[1;32m     95\u001b[0m     \u001b[0;32mif\u001b[0m \u001b[0mreply\u001b[0m \u001b[0;34m==\u001b[0m \u001b[0m_NOT_READY\u001b[0m \u001b[0;32mor\u001b[0m \u001b[0;32mnot\u001b[0m \u001b[0misinstance\u001b[0m\u001b[0;34m(\u001b[0m\u001b[0mreply\u001b[0m\u001b[0;34m,\u001b[0m \u001b[0mdict\u001b[0m\u001b[0;34m)\u001b[0m\u001b[0;34m:\u001b[0m\u001b[0;34m\u001b[0m\u001b[0;34m\u001b[0m\u001b[0m\n\u001b[0;32m---> 96\u001b[0;31m       \u001b[0mtime\u001b[0m\u001b[0;34m.\u001b[0m\u001b[0msleep\u001b[0m\u001b[0;34m(\u001b[0m\u001b[0;36m0.025\u001b[0m\u001b[0;34m)\u001b[0m\u001b[0;34m\u001b[0m\u001b[0;34m\u001b[0m\u001b[0m\n\u001b[0m\u001b[1;32m     97\u001b[0m       \u001b[0;32mcontinue\u001b[0m\u001b[0;34m\u001b[0m\u001b[0;34m\u001b[0m\u001b[0m\n\u001b[1;32m     98\u001b[0m     if (\n",
            "\u001b[0;31mKeyboardInterrupt\u001b[0m: "
          ]
        }
      ]
    },
    {
      "cell_type": "code",
      "source": [
        "import os\n",
        "\n",
        "os.environ['KAGGLE_USERNAME'] = \"daryasavitskaya\"\n",
        "os.environ['KAGGLE_KEY'] = \"9358356\"\n",
        "\n",
        "!pip install kaggle\n",
        "!kaggle datasets download -d asaniczka/1-3m-linkedin-jobs-and-skills-2024\n",
        "!unzip 1-3m-linkedin-jobs-and-skills-2024.zip -d ./data/"
      ],
      "metadata": {
        "colab": {
          "base_uri": "https://localhost:8080/"
        },
        "id": "3qC3QICqXVsb",
        "outputId": "083b3b71-91f0-4cfe-ecda-0258ad03c5c7"
      },
      "id": "3qC3QICqXVsb",
      "execution_count": 6,
      "outputs": [
        {
          "output_type": "stream",
          "name": "stdout",
          "text": [
            "Requirement already satisfied: kaggle in /usr/local/lib/python3.10/dist-packages (1.6.17)\n",
            "Requirement already satisfied: six>=1.10 in /usr/local/lib/python3.10/dist-packages (from kaggle) (1.16.0)\n",
            "Requirement already satisfied: certifi>=2023.7.22 in /usr/local/lib/python3.10/dist-packages (from kaggle) (2024.8.30)\n",
            "Requirement already satisfied: python-dateutil in /usr/local/lib/python3.10/dist-packages (from kaggle) (2.8.2)\n",
            "Requirement already satisfied: requests in /usr/local/lib/python3.10/dist-packages (from kaggle) (2.32.3)\n",
            "Requirement already satisfied: tqdm in /usr/local/lib/python3.10/dist-packages (from kaggle) (4.66.6)\n",
            "Requirement already satisfied: python-slugify in /usr/local/lib/python3.10/dist-packages (from kaggle) (8.0.4)\n",
            "Requirement already satisfied: urllib3 in /usr/local/lib/python3.10/dist-packages (from kaggle) (2.2.3)\n",
            "Requirement already satisfied: bleach in /usr/local/lib/python3.10/dist-packages (from kaggle) (6.2.0)\n",
            "Requirement already satisfied: webencodings in /usr/local/lib/python3.10/dist-packages (from bleach->kaggle) (0.5.1)\n",
            "Requirement already satisfied: text-unidecode>=1.3 in /usr/local/lib/python3.10/dist-packages (from python-slugify->kaggle) (1.3)\n",
            "Requirement already satisfied: charset-normalizer<4,>=2 in /usr/local/lib/python3.10/dist-packages (from requests->kaggle) (3.4.0)\n",
            "Requirement already satisfied: idna<4,>=2.5 in /usr/local/lib/python3.10/dist-packages (from requests->kaggle) (3.10)\n",
            "Dataset URL: https://www.kaggle.com/datasets/asaniczka/1-3m-linkedin-jobs-and-skills-2024\n",
            "License(s): ODC Attribution License (ODC-By)\n",
            "Downloading 1-3m-linkedin-jobs-and-skills-2024.zip to /content\n",
            "100% 1.87G/1.88G [00:12<00:00, 136MB/s]\n",
            "100% 1.88G/1.88G [00:12<00:00, 162MB/s]\n",
            "Archive:  1-3m-linkedin-jobs-and-skills-2024.zip\n",
            "  inflating: ./data/job_skills.csv   \n",
            "  inflating: ./data/job_summary.csv  \n",
            "  inflating: ./data/linkedin_job_postings.csv  \n"
          ]
        }
      ]
    },
    {
      "cell_type": "markdown",
      "id": "98994d57",
      "metadata": {
        "id": "98994d57"
      },
      "source": [
        "#### Data Exporation"
      ]
    },
    {
      "cell_type": "code",
      "execution_count": null,
      "id": "aaa8a752",
      "metadata": {
        "scrolled": true,
        "id": "aaa8a752"
      },
      "outputs": [],
      "source": [
        "job_skill = pd.read_csv('./data/job_skills.csv')"
      ]
    },
    {
      "cell_type": "code",
      "execution_count": null,
      "id": "ac6fc40e",
      "metadata": {
        "id": "ac6fc40e",
        "outputId": "53d79d76-285d-4642-e5dc-a3c85cde2c8d"
      },
      "outputs": [
        {
          "data": {
            "text/html": [
              "<div>\n",
              "<style scoped>\n",
              "    .dataframe tbody tr th:only-of-type {\n",
              "        vertical-align: middle;\n",
              "    }\n",
              "\n",
              "    .dataframe tbody tr th {\n",
              "        vertical-align: top;\n",
              "    }\n",
              "\n",
              "    .dataframe thead th {\n",
              "        text-align: right;\n",
              "    }\n",
              "</style>\n",
              "<table border=\"1\" class=\"dataframe\">\n",
              "  <thead>\n",
              "    <tr style=\"text-align: right;\">\n",
              "      <th></th>\n",
              "      <th>job_link</th>\n",
              "      <th>job_skills</th>\n",
              "    </tr>\n",
              "  </thead>\n",
              "  <tbody>\n",
              "    <tr>\n",
              "      <th>0</th>\n",
              "      <td>https://www.linkedin.com/jobs/view/housekeeper...</td>\n",
              "      <td>Building Custodial Services, Cleaning, Janitor...</td>\n",
              "    </tr>\n",
              "    <tr>\n",
              "      <th>1</th>\n",
              "      <td>https://www.linkedin.com/jobs/view/assistant-g...</td>\n",
              "      <td>Customer service, Restaurant management, Food ...</td>\n",
              "    </tr>\n",
              "    <tr>\n",
              "      <th>2</th>\n",
              "      <td>https://www.linkedin.com/jobs/view/school-base...</td>\n",
              "      <td>Applied Behavior Analysis (ABA), Data analysis...</td>\n",
              "    </tr>\n",
              "    <tr>\n",
              "      <th>3</th>\n",
              "      <td>https://www.linkedin.com/jobs/view/electrical-...</td>\n",
              "      <td>Electrical Engineering, Project Controls, Sche...</td>\n",
              "    </tr>\n",
              "    <tr>\n",
              "      <th>4</th>\n",
              "      <td>https://www.linkedin.com/jobs/view/electrical-...</td>\n",
              "      <td>Electrical Assembly, Point to point wiring, St...</td>\n",
              "    </tr>\n",
              "  </tbody>\n",
              "</table>\n",
              "</div>"
            ],
            "text/plain": [
              "                                            job_link  \\\n",
              "0  https://www.linkedin.com/jobs/view/housekeeper...   \n",
              "1  https://www.linkedin.com/jobs/view/assistant-g...   \n",
              "2  https://www.linkedin.com/jobs/view/school-base...   \n",
              "3  https://www.linkedin.com/jobs/view/electrical-...   \n",
              "4  https://www.linkedin.com/jobs/view/electrical-...   \n",
              "\n",
              "                                          job_skills  \n",
              "0  Building Custodial Services, Cleaning, Janitor...  \n",
              "1  Customer service, Restaurant management, Food ...  \n",
              "2  Applied Behavior Analysis (ABA), Data analysis...  \n",
              "3  Electrical Engineering, Project Controls, Sche...  \n",
              "4  Electrical Assembly, Point to point wiring, St...  "
            ]
          },
          "execution_count": 70,
          "metadata": {},
          "output_type": "execute_result"
        }
      ],
      "source": [
        "job_skill.head()"
      ]
    },
    {
      "cell_type": "code",
      "execution_count": null,
      "id": "a238af7c",
      "metadata": {
        "scrolled": false,
        "id": "a238af7c",
        "outputId": "371c23f0-d6a6-4266-cf39-b1e849aa6a8f"
      },
      "outputs": [
        {
          "name": "stdout",
          "output_type": "stream",
          "text": [
            "<class 'pandas.core.frame.DataFrame'>\n",
            "RangeIndex: 1296381 entries, 0 to 1296380\n",
            "Data columns (total 2 columns):\n",
            " #   Column      Non-Null Count    Dtype \n",
            "---  ------      --------------    ----- \n",
            " 0   job_link    1296381 non-null  object\n",
            " 1   job_skills  1294346 non-null  object\n",
            "dtypes: object(2)\n",
            "memory usage: 19.8+ MB\n"
          ]
        }
      ],
      "source": [
        "job_skill.info() #we see some nulls"
      ]
    },
    {
      "cell_type": "code",
      "execution_count": null,
      "id": "2cc786bc",
      "metadata": {
        "scrolled": false,
        "id": "2cc786bc",
        "outputId": "03f09f47-4c85-4ba0-e876-c413010704cc"
      },
      "outputs": [
        {
          "data": {
            "text/plain": [
              "'Consultation, Supervision, InService Training, PreService Training, Youth Intake, Individual Treatment Plans, Program Development, Data Collection, Quality Control Programs, Performance Evaluations, Staff Recruitment and Selection, Emergency Consultation, Quality Improvement, Joint Commission Standards, TFM Certification, SelfMotivation, High Stress Tolerance, Fast Paced Work Environment, Minimal Supervision, Auditory Ability, Visual Ability, Olfactory Ability, Physical Stamina, Computer Literacy, Communication Skills, Reading and Writing Skills, Clinical Duties, COVID19 Vaccination, Flu Shot'"
            ]
          },
          "execution_count": 72,
          "metadata": {},
          "output_type": "execute_result"
        }
      ],
      "source": [
        "job_skill.iloc[6]['job_skills']"
      ]
    },
    {
      "cell_type": "code",
      "execution_count": null,
      "id": "fc1725d1",
      "metadata": {
        "id": "fc1725d1",
        "outputId": "260e2b7d-1b10-4f76-d854-af1d5ecf931c"
      },
      "outputs": [
        {
          "name": "stdout",
          "output_type": "stream",
          "text": [
            "Total skills: 26925304\n",
            "Sample skills: ['Building Custodial Services', 'Cleaning', 'Janitorial Services', 'Materials Handling', 'Housekeeping', 'Sanitation', 'Waste Management', 'Floor Maintenance', 'Equipment Maintenance', 'Safety Protocols']\n"
          ]
        }
      ],
      "source": [
        "job_skill = job_skill.dropna(subset=['job_skills'])\n",
        "\n",
        "all_skills = []\n",
        "for skills in job_skill['job_skills']:\n",
        "    all_skills.extend(skills.split(','))\n",
        "\n",
        "all_skills = [skill.strip() for skill in all_skills]"
      ]
    },
    {
      "cell_type": "code",
      "execution_count": null,
      "id": "92a56f51",
      "metadata": {
        "scrolled": true,
        "id": "92a56f51",
        "outputId": "e1eacb21-94b6-4bd6-c5e6-345466fc11e5"
      },
      "outputs": [
        {
          "data": {
            "text/plain": [
              "[('Communication', 368293),\n",
              " ('Teamwork', 226266),\n",
              " ('Leadership', 184341),\n",
              " ('Customer service', 166209),\n",
              " ('Communication skills', 116260),\n",
              " ('Customer Service', 110418),\n",
              " ('Problem Solving', 102046),\n",
              " ('Sales', 92766),\n",
              " ('Problemsolving', 92512),\n",
              " ('Nursing', 87484),\n",
              " ('Collaboration', 86804),\n",
              " ('Training', 83195),\n",
              " ('Project Management', 81106),\n",
              " ('Communication Skills', 78721),\n",
              " ('Attention to detail', 75476),\n",
              " ('Microsoft Office Suite', 73372),\n",
              " ('Time management', 72481),\n",
              " ('Time Management', 69769),\n",
              " ('Scheduling', 64090),\n",
              " ('Microsoft Office', 60277),\n",
              " ('Multitasking', 59234),\n",
              " ('Adaptability', 58707),\n",
              " ('Patient Care', 58373),\n",
              " ('Attention to Detail', 57676),\n",
              " ('Flexibility', 56556),\n",
              " ('Interpersonal skills', 55553),\n",
              " ('Documentation', 51511),\n",
              " ('Data Analysis', 47366),\n",
              " ('Organization', 46853),\n",
              " ('Problem solving', 46221)]"
            ]
          },
          "execution_count": 74,
          "metadata": {},
          "output_type": "execute_result"
        }
      ],
      "source": [
        "skill_counts = Counter(all_skills)\n",
        "skill_counts.most_common(30)"
      ]
    },
    {
      "cell_type": "code",
      "execution_count": null,
      "id": "504b6403",
      "metadata": {
        "id": "504b6403"
      },
      "outputs": [],
      "source": [
        "job_skill['job_skills'] = job_skill['job_skills'].str.lower()"
      ]
    },
    {
      "cell_type": "code",
      "execution_count": null,
      "id": "edaf38b0",
      "metadata": {
        "id": "edaf38b0",
        "outputId": "bba42f2c-459e-4a2f-a93c-87964a082e04"
      },
      "outputs": [
        {
          "data": {
            "text/plain": [
              "['building custodial services',\n",
              " 'cleaning',\n",
              " 'janitorial services',\n",
              " 'materials handling',\n",
              " 'housekeeping',\n",
              " 'sanitation',\n",
              " 'waste management',\n",
              " 'floor maintenance',\n",
              " 'equipment maintenance',\n",
              " 'safety protocols']"
            ]
          },
          "execution_count": 76,
          "metadata": {},
          "output_type": "execute_result"
        }
      ],
      "source": [
        "job_skill = job_skill.dropna(subset=['job_skills'])\n",
        "\n",
        "all_skills = []\n",
        "for skills in job_skill['job_skills']:\n",
        "    all_skills.extend(skills.split(','))\n",
        "\n",
        "all_skills = [skill.strip() for skill in all_skills]\n",
        "\n",
        "len(all_skills)\n",
        "all_skills[:10]\n"
      ]
    },
    {
      "cell_type": "code",
      "execution_count": null,
      "id": "764118ed",
      "metadata": {
        "id": "764118ed",
        "outputId": "80854704-9d83-42dc-cd9e-859b14c2ff23"
      },
      "outputs": [
        {
          "data": {
            "text/plain": [
              "[('communication', 370143),\n",
              " ('customer service', 278102),\n",
              " ('teamwork', 227609),\n",
              " ('communication skills', 195949),\n",
              " ('leadership', 185187),\n",
              " ('problem solving', 149032),\n",
              " ('time management', 142911),\n",
              " ('attention to detail', 133975),\n",
              " ('problemsolving', 129329),\n",
              " ('project management', 121563),\n",
              " ('interpersonal skills', 100267),\n",
              " ('patient care', 99926),\n",
              " ('sales', 93031),\n",
              " ('nursing', 88015),\n",
              " ('collaboration', 87116),\n",
              " ('training', 83656),\n",
              " ('data analysis', 81964),\n",
              " ('microsoft office suite', 75531),\n",
              " ('organizational skills', 75274),\n",
              " ('inventory management', 71911),\n",
              " ('high school diploma', 67267),\n",
              " ('scheduling', 64461),\n",
              " (\"bachelor's degree\", 63490),\n",
              " ('multitasking', 62044),\n",
              " ('analytical skills', 60768),\n",
              " ('microsoft office', 60604),\n",
              " ('adaptability', 59121),\n",
              " ('flexibility', 56896),\n",
              " ('critical thinking', 53081),\n",
              " ('documentation', 51875)]"
            ]
          },
          "execution_count": 77,
          "metadata": {},
          "output_type": "execute_result"
        }
      ],
      "source": [
        "skill_counts = Counter(all_skills)\n",
        "skill_counts.most_common(30)"
      ]
    },
    {
      "cell_type": "code",
      "execution_count": null,
      "id": "a944275d",
      "metadata": {
        "id": "a944275d"
      },
      "outputs": [],
      "source": [
        "skills_df = pd.DataFrame(skill_counts.items(), columns=['Skill', 'Frequency'])"
      ]
    },
    {
      "cell_type": "code",
      "execution_count": null,
      "id": "2bd145ff",
      "metadata": {
        "id": "2bd145ff",
        "outputId": "3b46aa34-9a9a-475a-fc86-4cba45b0b861"
      },
      "outputs": [
        {
          "data": {
            "image/png": "[encoded data removed]",
            "text/plain": [
              "<Figure size 720x432 with 1 Axes>"
            ]
          },
          "metadata": {
            "needs_background": "light"
          },
          "output_type": "display_data"
        }
      ],
      "source": [
        "top_skills = skills_df.sort_values('Frequency', ascending=False).head(20)\n",
        "\n",
        "plt.figure(figsize=(10, 6))\n",
        "plt.barh(top_skills['Skill'], top_skills['Frequency'])\n",
        "plt.xlabel('Count')\n",
        "plt.ylabel('Skill')\n",
        "plt.title('Top 20 Skills')\n",
        "plt.gca().invert_yaxis()\n",
        "plt.show()\n"
      ]
    },
    {
      "cell_type": "code",
      "execution_count": null,
      "id": "beaa4d29",
      "metadata": {
        "id": "beaa4d29",
        "outputId": "0bd588f4-94c2-4525-d54c-4026390f4884"
      },
      "outputs": [
        {
          "name": "stdout",
          "output_type": "stream",
          "text": [
            "<class 'pandas.core.frame.DataFrame'>\n",
            "RangeIndex: 2773203 entries, 0 to 2773202\n",
            "Data columns (total 2 columns):\n",
            " #   Column     Dtype \n",
            "---  ------     ----- \n",
            " 0   Skill      object\n",
            " 1   Frequency  int64 \n",
            "dtypes: int64(1), object(1)\n",
            "memory usage: 42.3+ MB\n"
          ]
        }
      ],
      "source": [
        "skills_df.info()"
      ]
    },
    {
      "cell_type": "code",
      "execution_count": null,
      "id": "cc447abc",
      "metadata": {
        "id": "cc447abc",
        "outputId": "80b155b2-8c9e-4148-9ec0-e1f6ef25f502"
      },
      "outputs": [
        {
          "data": {
            "text/html": [
              "<div>\n",
              "<style scoped>\n",
              "    .dataframe tbody tr th:only-of-type {\n",
              "        vertical-align: middle;\n",
              "    }\n",
              "\n",
              "    .dataframe tbody tr th {\n",
              "        vertical-align: top;\n",
              "    }\n",
              "\n",
              "    .dataframe thead th {\n",
              "        text-align: right;\n",
              "    }\n",
              "</style>\n",
              "<table border=\"1\" class=\"dataframe\">\n",
              "  <thead>\n",
              "    <tr style=\"text-align: right;\">\n",
              "      <th></th>\n",
              "      <th>Frequency</th>\n",
              "    </tr>\n",
              "  </thead>\n",
              "  <tbody>\n",
              "    <tr>\n",
              "      <th>count</th>\n",
              "      <td>2.773203e+06</td>\n",
              "    </tr>\n",
              "    <tr>\n",
              "      <th>mean</th>\n",
              "      <td>9.709100e+00</td>\n",
              "    </tr>\n",
              "    <tr>\n",
              "      <th>std</th>\n",
              "      <td>4.925670e+02</td>\n",
              "    </tr>\n",
              "    <tr>\n",
              "      <th>min</th>\n",
              "      <td>1.000000e+00</td>\n",
              "    </tr>\n",
              "    <tr>\n",
              "      <th>25%</th>\n",
              "      <td>1.000000e+00</td>\n",
              "    </tr>\n",
              "    <tr>\n",
              "      <th>50%</th>\n",
              "      <td>1.000000e+00</td>\n",
              "    </tr>\n",
              "    <tr>\n",
              "      <th>75%</th>\n",
              "      <td>2.000000e+00</td>\n",
              "    </tr>\n",
              "    <tr>\n",
              "      <th>max</th>\n",
              "      <td>3.701430e+05</td>\n",
              "    </tr>\n",
              "  </tbody>\n",
              "</table>\n",
              "</div>"
            ],
            "text/plain": [
              "          Frequency\n",
              "count  2.773203e+06\n",
              "mean   9.709100e+00\n",
              "std    4.925670e+02\n",
              "min    1.000000e+00\n",
              "25%    1.000000e+00\n",
              "50%    1.000000e+00\n",
              "75%    2.000000e+00\n",
              "max    3.701430e+05"
            ]
          },
          "execution_count": 82,
          "metadata": {},
          "output_type": "execute_result"
        }
      ],
      "source": [
        "skills_df.describe()"
      ]
    },
    {
      "cell_type": "code",
      "execution_count": null,
      "id": "5178e28d",
      "metadata": {
        "scrolled": true,
        "id": "5178e28d",
        "outputId": "0d09ad53-7f6d-47c9-e5c3-1af117408e6a"
      },
      "outputs": [
        {
          "data": {
            "image/png": "[encoded data removed]",
            "text/plain": [
              "<Figure size 864x432 with 1 Axes>"
            ]
          },
          "metadata": {
            "needs_background": "light"
          },
          "output_type": "display_data"
        }
      ],
      "source": [
        "mean_frequency = skills_df['Frequency'].mean()\n",
        "median_frequency = skills_df['Frequency'].median()\n",
        "\n",
        "plt.figure(figsize=(12, 6))\n",
        "plt.hist(skills_df['Frequency'], bins=50, color='skyblue', edgecolor='black', alpha=0.7, log=True)\n",
        "\n",
        "plt.axvline(mean_frequency, color='blue', linestyle='dashed', linewidth=2, label=f'Mean: {mean_frequency:.2f}')\n",
        "plt.axvline(median_frequency, color='orange', linestyle='dotted', linewidth=2, label=f'Median: {median_frequency:.2f}')\n",
        "\n",
        "plt.title('Log-Scaled Distribution of Skill Frequencies')\n",
        "plt.xlabel('Frequency (log scale)')\n",
        "plt.ylabel('Number of Skills (log scale)')\n",
        "plt.legend()\n",
        "plt.grid(True)\n",
        "\n",
        "plt.show()\n"
      ]
    },
    {
      "cell_type": "code",
      "execution_count": null,
      "id": "14a5ba92",
      "metadata": {
        "id": "14a5ba92",
        "outputId": "0a7f05d9-0129-4f35-e511-74779c024af9"
      },
      "outputs": [
        {
          "data": {
            "text/html": [
              "<div>\n",
              "<style scoped>\n",
              "    .dataframe tbody tr th:only-of-type {\n",
              "        vertical-align: middle;\n",
              "    }\n",
              "\n",
              "    .dataframe tbody tr th {\n",
              "        vertical-align: top;\n",
              "    }\n",
              "\n",
              "    .dataframe thead th {\n",
              "        text-align: right;\n",
              "    }\n",
              "</style>\n",
              "<table border=\"1\" class=\"dataframe\">\n",
              "  <thead>\n",
              "    <tr style=\"text-align: right;\">\n",
              "      <th></th>\n",
              "      <th>job_link</th>\n",
              "      <th>job_skills</th>\n",
              "    </tr>\n",
              "  </thead>\n",
              "  <tbody>\n",
              "    <tr>\n",
              "      <th>0</th>\n",
              "      <td>https://www.linkedin.com/jobs/view/housekeeper...</td>\n",
              "      <td>building custodial services, cleaning, janitor...</td>\n",
              "    </tr>\n",
              "    <tr>\n",
              "      <th>1</th>\n",
              "      <td>https://www.linkedin.com/jobs/view/assistant-g...</td>\n",
              "      <td>customer service, restaurant management, food ...</td>\n",
              "    </tr>\n",
              "    <tr>\n",
              "      <th>2</th>\n",
              "      <td>https://www.linkedin.com/jobs/view/school-base...</td>\n",
              "      <td>applied behavior analysis (aba), data analysis...</td>\n",
              "    </tr>\n",
              "    <tr>\n",
              "      <th>3</th>\n",
              "      <td>https://www.linkedin.com/jobs/view/electrical-...</td>\n",
              "      <td>electrical engineering, project controls, sche...</td>\n",
              "    </tr>\n",
              "    <tr>\n",
              "      <th>4</th>\n",
              "      <td>https://www.linkedin.com/jobs/view/electrical-...</td>\n",
              "      <td>electrical assembly, point to point wiring, st...</td>\n",
              "    </tr>\n",
              "  </tbody>\n",
              "</table>\n",
              "</div>"
            ],
            "text/plain": [
              "                                            job_link  \\\n",
              "0  https://www.linkedin.com/jobs/view/housekeeper...   \n",
              "1  https://www.linkedin.com/jobs/view/assistant-g...   \n",
              "2  https://www.linkedin.com/jobs/view/school-base...   \n",
              "3  https://www.linkedin.com/jobs/view/electrical-...   \n",
              "4  https://www.linkedin.com/jobs/view/electrical-...   \n",
              "\n",
              "                                          job_skills  \n",
              "0  building custodial services, cleaning, janitor...  \n",
              "1  customer service, restaurant management, food ...  \n",
              "2  applied behavior analysis (aba), data analysis...  \n",
              "3  electrical engineering, project controls, sche...  \n",
              "4  electrical assembly, point to point wiring, st...  "
            ]
          },
          "execution_count": 84,
          "metadata": {},
          "output_type": "execute_result"
        }
      ],
      "source": [
        "job_skill.head()"
      ]
    },
    {
      "cell_type": "code",
      "execution_count": null,
      "id": "57d27e67",
      "metadata": {
        "id": "57d27e67"
      },
      "outputs": [],
      "source": [
        "job_skill.to_csv('LOWER_job_skills.csv', index=False)"
      ]
    }
  ],
  "metadata": {
    "kernelspec": {
      "display_name": "Python 3 (ipykernel)",
      "language": "python",
      "name": "python3"
    },
    "language_info": {
      "codemirror_mode": {
        "name": "ipython",
        "version": 3
      },
      "file_extension": ".py",
      "mimetype": "text/x-python",
      "name": "python",
      "nbconvert_exporter": "python",
      "pygments_lexer": "ipython3",
      "version": "3.9.12"
    },
    "colab": {
      "provenance": []
    }
  },
  "nbformat": 4,
  "nbformat_minor": 5
}