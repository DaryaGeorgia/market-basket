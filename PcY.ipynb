{
  "cells": [
    {
      "cell_type": "code",
      "execution_count": null,
      "id": "61b2e7b8",
      "metadata": {
        "colab": {
          "background_save": true
        },
        "id": "61b2e7b8"
      },
      "outputs": [],
      "source": [
        "from pyspark import SparkContext, SparkConf\n",
        "from pyspark.sql import SparkSession\n",
        "from pyspark.sql.functions import col, lower, split\n",
        "from itertools import combinations"
      ]
    },
    {
      "cell_type": "code",
      "execution_count": null,
      "id": "6RmfgxMqUics",
      "metadata": {
        "colab": {
          "base_uri": "https://localhost:8080/",
          "height": 92
        },
        "id": "6RmfgxMqUics",
        "outputId": "167b19ba-d135-4fc1-80bd-4cc4c2527830"
      },
      "outputs": [
        {
          "data": {
            "text/html": [
              "\n",
              "     <input type=\"file\" id=\"files-fd9304d8-6fb0-4d2b-be80-916120b562fd\" name=\"files[]\" multiple disabled\n",
              "        style=\"border:none\" />\n",
              "     <output id=\"result-fd9304d8-6fb0-4d2b-be80-916120b562fd\">\n",
              "      Upload widget is only available when the cell has been executed in the\n",
              "      current browser session. Please rerun this cell to enable.\n",
              "      </output>\n",
              "      <script>// Copyright 2017 Google LLC\n",
              "//\n",
              "// Licensed under the Apache License, Version 2.0 (the \"License\");\n",
              "// you may not use this file except in compliance with the License.\n",
              "// You may obtain a copy of the License at\n",
              "//\n",
              "//      http://www.apache.org/licenses/LICENSE-2.0\n",
              "//\n",
              "// Unless required by applicable law or agreed to in writing, software\n",
              "// distributed under the License is distributed on an \"AS IS\" BASIS,\n",
              "// WITHOUT WARRANTIES OR CONDITIONS OF ANY KIND, either express or implied.\n",
              "// See the License for the specific language governing permissions and\n",
              "// limitations under the License.\n",
              "\n",
              "/**\n",
              " * @fileoverview Helpers for google.colab Python module.\n",
              " */\n",
              "(function(scope) {\n",
              "function span(text, styleAttributes = {}) {\n",
              "  const element = document.createElement('span');\n",
              "  element.textContent = text;\n",
              "  for (const key of Object.keys(styleAttributes)) {\n",
              "    element.style[key] = styleAttributes[key];\n",
              "  }\n",
              "  return element;\n",
              "}\n",
              "\n",
              "// Max number of bytes which will be uploaded at a time.\n",
              "const MAX_PAYLOAD_SIZE = 100 * 1024;\n",
              "\n",
              "function _uploadFiles(inputId, outputId) {\n",
              "  const steps = uploadFilesStep(inputId, outputId);\n",
              "  const outputElement = document.getElementById(outputId);\n",
              "  // Cache steps on the outputElement to make it available for the next call\n",
              "  // to uploadFilesContinue from Python.\n",
              "  outputElement.steps = steps;\n",
              "\n",
              "  return _uploadFilesContinue(outputId);\n",
              "}\n",
              "\n",
              "// This is roughly an async generator (not supported in the browser yet),\n",
              "// where there are multiple asynchronous steps and the Python side is going\n",
              "// to poll for completion of each step.\n",
              "// This uses a Promise to block the python side on completion of each step,\n",
              "// then passes the result of the previous step as the input to the next step.\n",
              "function _uploadFilesContinue(outputId) {\n",
              "  const outputElement = document.getElementById(outputId);\n",
              "  const steps = outputElement.steps;\n",
              "\n",
              "  const next = steps.next(outputElement.lastPromiseValue);\n",
              "  return Promise.resolve(next.value.promise).then((value) => {\n",
              "    // Cache the last promise value to make it available to the next\n",
              "    // step of the generator.\n",
              "    outputElement.lastPromiseValue = value;\n",
              "    return next.value.response;\n",
              "  });\n",
              "}\n",
              "\n",
              "/**\n",
              " * Generator function which is called between each async step of the upload\n",
              " * process.\n",
              " * @param {string} inputId Element ID of the input file picker element.\n",
              " * @param {string} outputId Element ID of the output display.\n",
              " * @return {!Iterable<!Object>} Iterable of next steps.\n",
              " */\n",
              "function* uploadFilesStep(inputId, outputId) {\n",
              "  const inputElement = document.getElementById(inputId);\n",
              "  inputElement.disabled = false;\n",
              "\n",
              "  const outputElement = document.getElementById(outputId);\n",
              "  outputElement.innerHTML = '';\n",
              "\n",
              "  const pickedPromise = new Promise((resolve) => {\n",
              "    inputElement.addEventListener('change', (e) => {\n",
              "      resolve(e.target.files);\n",
              "    });\n",
              "  });\n",
              "\n",
              "  const cancel = document.createElement('button');\n",
              "  inputElement.parentElement.appendChild(cancel);\n",
              "  cancel.textContent = 'Cancel upload';\n",
              "  const cancelPromise = new Promise((resolve) => {\n",
              "    cancel.onclick = () => {\n",
              "      resolve(null);\n",
              "    };\n",
              "  });\n",
              "\n",
              "  // Wait for the user to pick the files.\n",
              "  const files = yield {\n",
              "    promise: Promise.race([pickedPromise, cancelPromise]),\n",
              "    response: {\n",
              "      action: 'starting',\n",
              "    }\n",
              "  };\n",
              "\n",
              "  cancel.remove();\n",
              "\n",
              "  // Disable the input element since further picks are not allowed.\n",
              "  inputElement.disabled = true;\n",
              "\n",
              "  if (!files) {\n",
              "    return {\n",
              "      response: {\n",
              "        action: 'complete',\n",
              "      }\n",
              "    };\n",
              "  }\n",
              "\n",
              "  for (const file of files) {\n",
              "    const li = document.createElement('li');\n",
              "    li.append(span(file.name, {fontWeight: 'bold'}));\n",
              "    li.append(span(\n",
              "        `(${file.type || 'n/a'}) - ${file.size} bytes, ` +\n",
              "        `last modified: ${\n",
              "            file.lastModifiedDate ? file.lastModifiedDate.toLocaleDateString() :\n",
              "                                    'n/a'} - `));\n",
              "    const percent = span('0% done');\n",
              "    li.appendChild(percent);\n",
              "\n",
              "    outputElement.appendChild(li);\n",
              "\n",
              "    const fileDataPromise = new Promise((resolve) => {\n",
              "      const reader = new FileReader();\n",
              "      reader.onload = (e) => {\n",
              "        resolve(e.target.result);\n",
              "      };\n",
              "      reader.readAsArrayBuffer(file);\n",
              "    });\n",
              "    // Wait for the data to be ready.\n",
              "    let fileData = yield {\n",
              "      promise: fileDataPromise,\n",
              "      response: {\n",
              "        action: 'continue',\n",
              "      }\n",
              "    };\n",
              "\n",
              "    // Use a chunked sending to avoid message size limits. See b/62115660.\n",
              "    let position = 0;\n",
              "    do {\n",
              "      const length = Math.min(fileData.byteLength - position, MAX_PAYLOAD_SIZE);\n",
              "      const chunk = new Uint8Array(fileData, position, length);\n",
              "      position += length;\n",
              "\n",
              "      const base64 = btoa(String.fromCharCode.apply(null, chunk));\n",
              "      yield {\n",
              "        response: {\n",
              "          action: 'append',\n",
              "          file: file.name,\n",
              "          data: base64,\n",
              "        },\n",
              "      };\n",
              "\n",
              "      let percentDone = fileData.byteLength === 0 ?\n",
              "          100 :\n",
              "          Math.round((position / fileData.byteLength) * 100);\n",
              "      percent.textContent = `${percentDone}% done`;\n",
              "\n",
              "    } while (position < fileData.byteLength);\n",
              "  }\n",
              "\n",
              "  // All done.\n",
              "  yield {\n",
              "    response: {\n",
              "      action: 'complete',\n",
              "    }\n",
              "  };\n",
              "}\n",
              "\n",
              "scope.google = scope.google || {};\n",
              "scope.google.colab = scope.google.colab || {};\n",
              "scope.google.colab._files = {\n",
              "  _uploadFiles,\n",
              "  _uploadFilesContinue,\n",
              "};\n",
              "})(self);\n",
              "</script> "
            ],
            "text/plain": [
              "<IPython.core.display.HTML object>"
            ]
          },
          "metadata": {},
          "output_type": "display_data"
        },
        {
          "name": "stdout",
          "output_type": "stream",
          "text": [
            "Saving kaggle (1).json to kaggle (1).json\n"
          ]
        },
        {
          "data": {
            "text/plain": [
              "{'kaggle (1).json': b'{\"username\":\"daryasavitskaya\",\"key\":\"32123b65cc42883a72a236b0c552fca2\"}'}"
            ]
          },
          "execution_count": 1,
          "metadata": {},
          "output_type": "execute_result"
        }
      ],
      "source": [
        "from google.colab import files\n",
        "files.upload()\n"
      ]
    },
    {
      "cell_type": "code",
      "execution_count": null,
      "id": "F00as0obUnRB",
      "metadata": {
        "colab": {
          "base_uri": "https://localhost:8080/"
        },
        "id": "F00as0obUnRB",
        "outputId": "85fd3e3c-b826-4054-92bc-fa0890e739ff"
      },
      "outputs": [
        {
          "name": "stdout",
          "output_type": "stream",
          "text": [
            "Requirement already satisfied: kaggle in /usr/local/lib/python3.10/dist-packages (1.6.17)\n",
            "Requirement already satisfied: six>=1.10 in /usr/local/lib/python3.10/dist-packages (from kaggle) (1.16.0)\n",
            "Requirement already satisfied: certifi>=2023.7.22 in /usr/local/lib/python3.10/dist-packages (from kaggle) (2024.8.30)\n",
            "Requirement already satisfied: python-dateutil in /usr/local/lib/python3.10/dist-packages (from kaggle) (2.8.2)\n",
            "Requirement already satisfied: requests in /usr/local/lib/python3.10/dist-packages (from kaggle) (2.32.3)\n",
            "Requirement already satisfied: tqdm in /usr/local/lib/python3.10/dist-packages (from kaggle) (4.66.6)\n",
            "Requirement already satisfied: python-slugify in /usr/local/lib/python3.10/dist-packages (from kaggle) (8.0.4)\n",
            "Requirement already satisfied: urllib3 in /usr/local/lib/python3.10/dist-packages (from kaggle) (2.2.3)\n",
            "Requirement already satisfied: bleach in /usr/local/lib/python3.10/dist-packages (from kaggle) (6.2.0)\n",
            "Requirement already satisfied: webencodings in /usr/local/lib/python3.10/dist-packages (from bleach->kaggle) (0.5.1)\n",
            "Requirement already satisfied: text-unidecode>=1.3 in /usr/local/lib/python3.10/dist-packages (from python-slugify->kaggle) (1.3)\n",
            "Requirement already satisfied: charset-normalizer<4,>=2 in /usr/local/lib/python3.10/dist-packages (from requests->kaggle) (3.4.0)\n",
            "Requirement already satisfied: idna<4,>=2.5 in /usr/local/lib/python3.10/dist-packages (from requests->kaggle) (3.10)\n",
            "Dataset URL: https://www.kaggle.com/datasets/asaniczka/1-3m-linkedin-jobs-and-skills-2024\n",
            "License(s): ODC Attribution License (ODC-By)\n",
            "Downloading 1-3m-linkedin-jobs-and-skills-2024.zip to /content\n",
            " 99% 1.86G/1.88G [00:27<00:00, 120MB/s]\n",
            "100% 1.88G/1.88G [00:27<00:00, 73.0MB/s]\n",
            "Archive:  1-3m-linkedin-jobs-and-skills-2024.zip\n",
            "  inflating: ./data/job_skills.csv   \n",
            "  inflating: ./data/job_summary.csv  \n",
            "  inflating: ./data/linkedin_job_postings.csv  \n"
          ]
        }
      ],
      "source": [
        "import os\n",
        "\n",
        "os.environ['KAGGLE_USERNAME'] = \"daryasavitskaya\"\n",
        "os.environ['KAGGLE_KEY'] = \"****\"\n",
        "\n",
        "!pip install kaggle\n",
        "!kaggle datasets download -d asaniczka/1-3m-linkedin-jobs-and-skills-2024\n",
        "!unzip 1-3m-linkedin-jobs-and-skills-2024.zip -d ./data/"
      ]
    },
    {
      "cell_type": "code",
      "execution_count": 54,
      "id": "a0e66de1",
      "metadata": {
        "id": "a0e66de1"
      },
      "outputs": [],
      "source": [
        "spark = SparkSession.builder.appName(\"PCY Algorithm\").getOrCreate()"
      ]
    },
    {
      "cell_type": "code",
      "execution_count": 55,
      "id": "b7381374",
      "metadata": {
        "id": "b7381374"
      },
      "outputs": [],
      "source": [
        "df = spark.read.csv('./data/job_skills.csv', header=True, inferSchema=True)\n",
        "df = df.dropna(subset=['job_skills'])\n",
        "df = df.withColumn('job_skills', lower(col('job_skills')))"
      ]
    },
    {
      "cell_type": "code",
      "execution_count": 56,
      "id": "b7887721",
      "metadata": {
        "id": "b7887721"
      },
      "outputs": [],
      "source": [
        "rdd = df.rdd.map(lambda row: row.job_skills.split(\",\"))"
      ]
    },
    {
      "cell_type": "code",
      "execution_count": 57,
      "id": "dd686fb7",
      "metadata": {
        "id": "dd686fb7"
      },
      "outputs": [],
      "source": [
        "support = 1200\n",
        "buckets = 2000000"
      ]
    },
    {
      "cell_type": "code",
      "execution_count": 58,
      "id": "a3c2372e",
      "metadata": {
        "colab": {
          "base_uri": "https://localhost:8080/"
        },
        "id": "a3c2372e",
        "outputId": "7330ec01-121b-4d3a-a88e-4347970b29f6"
      },
      "outputs": [
        {
          "output_type": "stream",
          "name": "stdout",
          "text": [
            "it:1, frequents:2200, samples:[('waste management', 1574), ('attention to detail', 133929), ('high school diploma', 67244)]\n",
            "Bitmap size: 2000000, Sum of bitmap: 11158\n",
            "Some buckets: [(1306722, 0), (1397532, 0), (1927524, 0), (702552, 0), (99192, 0), (1460220, 0), (627582, 0), (1195416, 0), (1047306, 1), (879654, 0)]\n"
          ]
        }
      ],
      "source": [
        "frdd = rdd.flatMap(lambda basket: [(skill.strip(), 1) for skill in basket]) \\\n",
        "          .reduceByKey(lambda x, y: x + y) \\\n",
        "          .filter(lambda x: x[1] > support)\n",
        "\n",
        "frequent = set(frdd.map(lambda x: x[0]).collect())\n",
        "print(f\"it:1, frequents:{len(frequent)}, samples:{frdd.take(3)}\")\n",
        "\n",
        "fbuckets = rdd.flatMap(lambda basket: [(hash(tuple(sorted(pair))) % buckets, 1)\n",
        "                                       for pair in combinations(basket, 2)]) \\\n",
        "              .reduceByKey(lambda x, y: x + y) \\\n",
        "              .map(lambda x: (x[0], int(x[1] > support)))\n",
        "\n",
        "def from_buckets_to_bitmap(fbuckets, num_buckets):\n",
        "    bitmap = [0] * num_buckets\n",
        "    for (bucket, count) in fbuckets.collect():\n",
        "        bitmap[bucket] = count\n",
        "    return bitmap\n",
        "\n",
        "bitmap = from_buckets_to_bitmap(fbuckets, buckets)\n",
        "print(f\"Bitmap size: {len(bitmap)}, Sum of bitmap: {sum(bitmap)}\")\n",
        "\n",
        "buckets_data = fbuckets.collect()\n",
        "print(f\"Some buckets: {buckets_data[:10]}\")\n",
        "\n",
        "k = 2\n",
        "while True:\n",
        "    frdd = rdd.flatMap(lambda basket: [(tuple(sorted(comb)), 1)\n",
        "                                       for comb in combinations(basket, k)\n",
        "                                       if all([subset in frequent for subset in combinations(comb, k - 1)])]) \\\n",
        "              .filter(lambda x: bitmap[hash(x[0]) % buckets]) \\\n",
        "              .reduceByKey(lambda x, y: x + y) \\\n",
        "              .filter(lambda x: x[1] > support)\n",
        "\n",
        "    frequent = set(frdd.map(lambda x: x[0]).collect())\n",
        "\n",
        "    if len(frequent) == 0:\n",
        "        break\n",
        "\n",
        "    print(f\"it:{k}, frequents:{len(frequent)}, all frequents:{list(frdd.collect())}\")\n",
        "\n",
        "\n",
        "    fbuckets = rdd.flatMap(lambda basket: [(hash(tuple(sorted(comb))) % buckets, 1)\n",
        "                                           for comb in combinations(basket, k + 1)]) \\\n",
        "                  .reduceByKey(lambda x, y: x + y) \\\n",
        "                  .map(lambda x: (x[0], int(x[1] > support)))\n",
        "\n",
        "    bitmap = from_buckets_to_bitmap(fbuckets, buckets)\n",
        "    print(f\"Bitmap updated: k={k+1}, Bitmap sum: {sum(bitmap)}\")\n",
        "\n",
        "    k += 1\n",
        "\n",
        "spark.stop()"
      ]
    }
  ],
  "metadata": {
    "colab": {
      "provenance": []
    },
    "kernelspec": {
      "display_name": "Python 3 (ipykernel)",
      "language": "python",
      "name": "python3"
    },
    "language_info": {
      "codemirror_mode": {
        "name": "ipython",
        "version": 3
      },
      "file_extension": ".py",
      "mimetype": "text/x-python",
      "name": "python",
      "nbconvert_exporter": "python",
      "pygments_lexer": "ipython3",
      "version": "3.9.12"
    }
  },
  "nbformat": 4,
  "nbformat_minor": 5
}